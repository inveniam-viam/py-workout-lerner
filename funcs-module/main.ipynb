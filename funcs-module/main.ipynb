{
 "cells": [
  {
   "cell_type": "code",
   "execution_count": 1,
   "metadata": {},
   "outputs": [],
   "source": [
    "def hello(name):\n",
    "\n",
    "    return f\"Hello, {name}!\""
   ]
  },
  {
   "cell_type": "code",
   "execution_count": 7,
   "metadata": {},
   "outputs": [
    {
     "name": "stdout",
     "output_type": "stream",
     "text": [
      "Number of arguments accepted by the function hello: 1\n",
      "Names of arguments accepted by the function hello: ('name',)\n"
     ]
    }
   ],
   "source": [
    "print(f\"Number of arguments accepted by the function {hello.__name__}: {hello.__code__.co_argcount}\")\n",
    "print(f\"Names of arguments accepted by the function {hello.__name__}: {hello.__code__.co_varnames}\")"
   ]
  },
  {
   "cell_type": "code",
   "execution_count": 8,
   "metadata": {},
   "outputs": [
    {
     "ename": "TypeError",
     "evalue": "hello() missing 1 required positional argument: 'name'",
     "output_type": "error",
     "traceback": [
      "\u001b[0;31m---------------------------------------------------------------------------\u001b[0m",
      "\u001b[0;31mTypeError\u001b[0m                                 Traceback (most recent call last)",
      "Cell \u001b[0;32mIn[8], line 1\u001b[0m\n\u001b[0;32m----> 1\u001b[0m \u001b[43mhello\u001b[49m\u001b[43m(\u001b[49m\u001b[43m)\u001b[49m \u001b[38;5;66;03m# will not work since the function accepts one argument and there is no default\u001b[39;00m\n",
      "\u001b[0;31mTypeError\u001b[0m: hello() missing 1 required positional argument: 'name'"
     ]
    }
   ],
   "source": [
    "hello() # will not work since the function accepts one argument and there is no default"
   ]
  },
  {
   "cell_type": "code",
   "execution_count": 9,
   "metadata": {},
   "outputs": [],
   "source": [
    "# rewriting the function, but with a default argument\n",
    "def hello(name = \"world\"):\n",
    "\n",
    "    return f\"Hello, {name}!\""
   ]
  },
  {
   "cell_type": "code",
   "execution_count": 10,
   "metadata": {},
   "outputs": [
    {
     "data": {
      "text/plain": [
       "'hello'"
      ]
     },
     "execution_count": 10,
     "metadata": {},
     "output_type": "execute_result"
    }
   ],
   "source": [
    "hello.__name__"
   ]
  },
  {
   "cell_type": "code",
   "execution_count": 11,
   "metadata": {},
   "outputs": [
    {
     "data": {
      "text/plain": [
       "1"
      ]
     },
     "execution_count": 11,
     "metadata": {},
     "output_type": "execute_result"
    }
   ],
   "source": [
    "hello.__code__.co_argcount"
   ]
  },
  {
   "cell_type": "code",
   "execution_count": 12,
   "metadata": {},
   "outputs": [
    {
     "data": {
      "text/plain": [
       "('name',)"
      ]
     },
     "execution_count": 12,
     "metadata": {},
     "output_type": "execute_result"
    }
   ],
   "source": [
    "hello.__code__.co_varnames"
   ]
  },
  {
   "cell_type": "code",
   "execution_count": 13,
   "metadata": {},
   "outputs": [
    {
     "data": {
      "text/plain": [
       "'Hello, world!'"
      ]
     },
     "execution_count": 13,
     "metadata": {},
     "output_type": "execute_result"
    }
   ],
   "source": [
    "hello() # should work because there's a default arg"
   ]
  },
  {
   "cell_type": "code",
   "execution_count": 14,
   "metadata": {},
   "outputs": [
    {
     "data": {
      "text/plain": [
       "'Hello, out there!'"
      ]
     },
     "execution_count": 14,
     "metadata": {},
     "output_type": "execute_result"
    }
   ],
   "source": [
    "hello(\"out there\") # should work since one valid arg is supplied"
   ]
  },
  {
   "cell_type": "code",
   "execution_count": 15,
   "metadata": {},
   "outputs": [
    {
     "ename": "TypeError",
     "evalue": "hello() takes from 0 to 1 positional arguments but 2 were given",
     "output_type": "error",
     "traceback": [
      "\u001b[0;31m---------------------------------------------------------------------------\u001b[0m",
      "\u001b[0;31mTypeError\u001b[0m                                 Traceback (most recent call last)",
      "Cell \u001b[0;32mIn[15], line 1\u001b[0m\n\u001b[0;32m----> 1\u001b[0m \u001b[43mhello\u001b[49m\u001b[43m(\u001b[49m\u001b[38;5;124;43m\"\u001b[39;49m\u001b[38;5;124;43ma\u001b[39;49m\u001b[38;5;124;43m\"\u001b[39;49m\u001b[43m,\u001b[49m\u001b[43m \u001b[49m\u001b[38;5;124;43m\"\u001b[39;49m\u001b[38;5;124;43mb\u001b[39;49m\u001b[38;5;124;43m\"\u001b[39;49m\u001b[43m)\u001b[49m \u001b[38;5;66;03m# shouldn't work since there's two arguments while only one is accepted\u001b[39;00m\n",
      "\u001b[0;31mTypeError\u001b[0m: hello() takes from 0 to 1 positional arguments but 2 were given"
     ]
    }
   ],
   "source": [
    "hello(\"a\", \"b\") # shouldn't work since there's two arguments while only one is accepted"
   ]
  },
  {
   "cell_type": "code",
   "execution_count": 42,
   "metadata": {},
   "outputs": [],
   "source": [
    "'''\n",
    "function myxml creates simple XML output.\n",
    "\n",
    "output will always be a string.\n",
    "'''\n",
    "\n",
    "\n",
    "def myxml(tag, content = '', **kwargs):\n",
    "\n",
    "    attrs: str = ' '.join(f' {key} = \"{value}\"' for (key,value) in kwargs.items())\n",
    "\n",
    "    return f\"<{tag} {attrs}> {content} </{tag}>\""
   ]
  },
  {
   "cell_type": "code",
   "execution_count": 43,
   "metadata": {},
   "outputs": [],
   "source": [
    "x = myxml(\"foo\", \"bar\", a = 1, b = 2, c = 3)"
   ]
  },
  {
   "cell_type": "code",
   "execution_count": 44,
   "metadata": {},
   "outputs": [
    {
     "name": "stdout",
     "output_type": "stream",
     "text": [
      "<foo  a = \"1\"  b = \"2\"  c = \"3\"> bar </foo>\n"
     ]
    }
   ],
   "source": [
    "print(x)"
   ]
  },
  {
   "cell_type": "code",
   "execution_count": 57,
   "metadata": {},
   "outputs": [],
   "source": [
    "def copyfile(input_file, *args):\n",
    "\n",
    "    lines: list = []\n",
    "\n",
    "    with open(input_file, 'r', encoding = \"utf-8\") as in_file:\n",
    "\n",
    "        for line in in_file:\n",
    "\n",
    "            lines.append(line)\n",
    "    \n",
    "    for file in args:\n",
    "\n",
    "        with open(file, 'w', encoding = \"utf-8\") as out_file:\n",
    "\n",
    "            for line in lines:\n",
    "\n",
    "                out_file.write(line)"
   ]
  },
  {
   "cell_type": "code",
   "execution_count": 58,
   "metadata": {},
   "outputs": [],
   "source": [
    "copyfile(\"myfile.txt\", \"copy1.txt\", \"copy2.txt\", \"copy3.txt\")"
   ]
  },
  {
   "cell_type": "code",
   "execution_count": 59,
   "metadata": {},
   "outputs": [],
   "source": [
    "def copyfile(input_file, *args):\n",
    "\n",
    "    for file in args:\n",
    "\n",
    "        with open(file,'w') as out_file:\n",
    "\n",
    "            for line in open(input_file):\n",
    "\n",
    "                out_file.write(line)"
   ]
  },
  {
   "cell_type": "code",
   "execution_count": 60,
   "metadata": {},
   "outputs": [],
   "source": [
    "copyfile(\"myfile.txt\", \"copy1.txt\", \"copy2.txt\", \"copy3.txt\")"
   ]
  },
  {
   "cell_type": "code",
   "execution_count": 69,
   "metadata": {},
   "outputs": [],
   "source": [
    "def factorial(*args):\n",
    "\n",
    "    if not args:\n",
    "\n",
    "        return 0\n",
    "    \n",
    "    result = 1\n",
    "\n",
    "    for number in args:\n",
    "\n",
    "        result *= number\n",
    "    \n",
    "    return result"
   ]
  },
  {
   "cell_type": "code",
   "execution_count": 70,
   "metadata": {},
   "outputs": [
    {
     "name": "stdout",
     "output_type": "stream",
     "text": [
      "24\n"
     ]
    }
   ],
   "source": [
    "print(factorial(1, 2, 3, 4))"
   ]
  },
  {
   "cell_type": "code",
   "execution_count": 74,
   "metadata": {},
   "outputs": [],
   "source": [
    "def anyjoin(input_collection, glue  = ' '):\n",
    "\n",
    "    result = ''\n",
    "\n",
    "    for item in input_collection:\n",
    "\n",
    "        result += str(item) + glue\n",
    "    \n",
    "    return result"
   ]
  },
  {
   "cell_type": "code",
   "execution_count": 75,
   "metadata": {},
   "outputs": [
    {
     "data": {
      "text/plain": [
       "'a**b**c**'"
      ]
     },
     "execution_count": 75,
     "metadata": {},
     "output_type": "execute_result"
    }
   ],
   "source": [
    "anyjoin('abc', '**')"
   ]
  },
  {
   "cell_type": "code",
   "execution_count": 76,
   "metadata": {},
   "outputs": [
    {
     "data": {
      "text/plain": [
       "'1 2 3 '"
      ]
     },
     "execution_count": 76,
     "metadata": {},
     "output_type": "execute_result"
    }
   ],
   "source": [
    "anyjoin([1,2,3])"
   ]
  }
 ],
 "metadata": {
  "kernelspec": {
   "display_name": "Python 3",
   "language": "python",
   "name": "python3"
  },
  "language_info": {
   "codemirror_mode": {
    "name": "ipython",
    "version": 3
   },
   "file_extension": ".py",
   "mimetype": "text/x-python",
   "name": "python",
   "nbconvert_exporter": "python",
   "pygments_lexer": "ipython3",
   "version": "3.11.8"
  }
 },
 "nbformat": 4,
 "nbformat_minor": 2
}
