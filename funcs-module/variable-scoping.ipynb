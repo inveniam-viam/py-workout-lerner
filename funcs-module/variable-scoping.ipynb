{
 "cells": [
  {
   "cell_type": "markdown",
   "metadata": {},
   "source": [
    "## Variable Scoping in Python\n",
    "\n",
    "L - Local\n",
    "\n",
    "E - Enclosing Function\n",
    "\n",
    "G - Global\n",
    "\n",
    "B - Built-In"
   ]
  },
  {
   "cell_type": "code",
   "execution_count": 3,
   "metadata": {},
   "outputs": [
    {
     "name": "stdout",
     "output_type": "stream",
     "text": [
      "10\n"
     ]
    },
    {
     "ename": "TypeError",
     "evalue": "'int' object is not subscriptable",
     "output_type": "error",
     "traceback": [
      "\u001b[0;31m---------------------------------------------------------------------------\u001b[0m",
      "\u001b[0;31mTypeError\u001b[0m                                 Traceback (most recent call last)",
      "Cell \u001b[0;32mIn[3], line 9\u001b[0m\n\u001b[1;32m      5\u001b[0m     \u001b[38;5;28msum\u001b[39m \u001b[38;5;241m+\u001b[39m\u001b[38;5;241m=\u001b[39m i \n\u001b[1;32m      7\u001b[0m \u001b[38;5;28mprint\u001b[39m(\u001b[38;5;28msum\u001b[39m)                      \u001b[38;5;66;03m# using the globally declared sum variable\u001b[39;00m\n\u001b[0;32m----> 9\u001b[0m \u001b[38;5;28mprint\u001b[39m(\u001b[38;5;28;43msum\u001b[39;49m\u001b[43m[\u001b[49m\u001b[38;5;241;43m10\u001b[39;49m\u001b[43m,\u001b[49m\u001b[43m \u001b[49m\u001b[38;5;241;43m20\u001b[39;49m\u001b[43m,\u001b[49m\u001b[43m \u001b[49m\u001b[38;5;241;43m30\u001b[39;49m\u001b[43m]\u001b[49m)          \u001b[38;5;66;03m# doesn't work because in L-E-G-B the global int is encountered first\u001b[39;00m\n",
      "\u001b[0;31mTypeError\u001b[0m: 'int' object is not subscriptable"
     ]
    }
   ],
   "source": [
    "sum = 0                         # shadowing the built-in sum keyword as an int\n",
    "\n",
    "for i in range(5):\n",
    "\n",
    "    sum += i \n",
    "\n",
    "print(sum)                      # using the globally declared sum variable\n",
    "\n",
    "print(sum[10, 20, 30])          # doesn't work because in L-E-G-B the global int is encountered first"
   ]
  },
  {
   "cell_type": "code",
   "execution_count": 1,
   "metadata": {},
   "outputs": [
    {
     "name": "stdout",
     "output_type": "stream",
     "text": [
      "100\n",
      "20\n",
      "100\n"
     ]
    }
   ],
   "source": [
    "x = 100 # x here is defined in the global scope\n",
    "\n",
    "def foo():\n",
    "\n",
    "    x = 20 # x here is defined in the local scope\n",
    "\n",
    "    print(x)\n",
    "\n",
    "print(x) # prints global x\n",
    "\n",
    "foo() # prints local x\n",
    "\n",
    "print(x) # still prints global x"
   ]
  },
  {
   "cell_type": "code",
   "execution_count": 4,
   "metadata": {},
   "outputs": [
    {
     "name": "stdout",
     "output_type": "stream",
     "text": [
      "100\n",
      "200\n",
      "200\n"
     ]
    }
   ],
   "source": [
    "# The global statement\n",
    "\n",
    "# WHAT IF, FROM WITHIN A FUNCTION, YOU WANT TO CHANGE A GLOBAL VARIABLE?\n",
    "\n",
    "# Requires the use of the global declaration, which tells Python you're not creating a local\n",
    "# variable, but would prefer to use the global variable\n",
    "\n",
    "# Any changes (retrievals or assignments) will now affect the global variable and not the local\n",
    "\n",
    "\n",
    "x = 100         # declaring global x\n",
    "\n",
    "def fooo():\n",
    "\n",
    "    global x\n",
    "\n",
    "    x = 200     # updating the global x this time\n",
    "\n",
    "    print(x)\n",
    "\n",
    "print(x)\n",
    "\n",
    "fooo()\n",
    "\n",
    "print(x)"
   ]
  },
  {
   "cell_type": "code",
   "execution_count": 5,
   "metadata": {},
   "outputs": [],
   "source": [
    "# Enclosing\n",
    "\n",
    "def fool(x):\n",
    "\n",
    "    def bar(y):\n",
    "\n",
    "        return x * y # i believe the x here is from the enclosing scope?\n",
    "    \n",
    "    return bar\n",
    "\n",
    "# the inner function here named bar is called a closure\n",
    "\n",
    "# this closure is defined when the outer function is executed\n",
    "\n",
    "# everytime we run the function fool(), we're returned a function bar\n",
    "\n",
    "# bar is of course a local variable within fool()"
   ]
  },
  {
   "cell_type": "code",
   "execution_count": 6,
   "metadata": {},
   "outputs": [],
   "source": [
    "f = fool(10)"
   ]
  },
  {
   "cell_type": "code",
   "execution_count": 7,
   "metadata": {},
   "outputs": [
    {
     "name": "stdout",
     "output_type": "stream",
     "text": [
      "200\n"
     ]
    }
   ],
   "source": [
    "print(f(20))"
   ]
  },
  {
   "cell_type": "code",
   "execution_count": 9,
   "metadata": {},
   "outputs": [],
   "source": [
    "# How does the closure bar() use the 10 from the function call fool(10)?\n",
    "\n",
    "# 1 - bar looks for an x in its local scope\n",
    "\n",
    "# 2 - if unavailable within local scope, bar looks for an x within enclosing function's scope\n",
    "\n",
    "# 3 - if x were unavailable within enclosing scope, bar would look for a global declaration of x\n",
    "\n",
    "# 4- finally, if x were unavailable within global scope, bar would look for a built-in x"
   ]
  },
  {
   "cell_type": "code",
   "execution_count": 10,
   "metadata": {},
   "outputs": [],
   "source": [
    "# nonlocal\n",
    "\n",
    "def foo():\n",
    "\n",
    "    call_counter = 0    # call_counter is in local scope for foo()\n",
    "\n",
    "    def bar(y):\n",
    "\n",
    "        nonlocal call_counter # make changes to call_counter variable from the enclosing scope\n",
    "\n",
    "        call_counter += 1\n",
    "\n",
    "        return f'y = {y}, call_counter = {call_counter}'\n",
    "    \n",
    "    return bar"
   ]
  },
  {
   "cell_type": "code",
   "execution_count": 11,
   "metadata": {},
   "outputs": [],
   "source": [
    "b = foo() # returns the function bar. now, call_counter is still 0 since bar has not been triggered yet"
   ]
  },
  {
   "cell_type": "code",
   "execution_count": 12,
   "metadata": {},
   "outputs": [
    {
     "name": "stdout",
     "output_type": "stream",
     "text": [
      "y = 10, call_counter = 1\n",
      "y = 20, call_counter = 2\n",
      "y = 30, call_counter = 3\n",
      "y = 40, call_counter = 4\n",
      "y = 50, call_counter = 5\n",
      "y = 60, call_counter = 6\n",
      "y = 70, call_counter = 7\n",
      "y = 80, call_counter = 8\n",
      "y = 90, call_counter = 9\n"
     ]
    }
   ],
   "source": [
    "for i in range(10, 100, 10):\n",
    "\n",
    "    print(b(i))"
   ]
  },
  {
   "cell_type": "markdown",
   "metadata": {},
   "source": [
    "## Prefix Notation Calculator"
   ]
  },
  {
   "cell_type": "code",
   "execution_count": 17,
   "metadata": {},
   "outputs": [],
   "source": [
    "prefix_str: str = \"+ 2 3\"\n",
    "\n",
    "prefix_str_list = prefix_str.split()\n",
    "\n",
    "prefix_op = prefix_str_list[0]\n",
    "\n",
    "operand_1 = int(prefix_str_list[1])\n",
    "\n",
    "operand_2 = int(prefix_str_list[2])\n"
   ]
  },
  {
   "cell_type": "code",
   "execution_count": 28,
   "metadata": {},
   "outputs": [],
   "source": [
    "import operator"
   ]
  },
  {
   "cell_type": "code",
   "execution_count": 20,
   "metadata": {},
   "outputs": [
    {
     "data": {
      "text/plain": [
       "'+'"
      ]
     },
     "execution_count": 20,
     "metadata": {},
     "output_type": "execute_result"
    }
   ],
   "source": [
    "operator.itemgetter(0)(prefix_str)"
   ]
  },
  {
   "cell_type": "code",
   "execution_count": 27,
   "metadata": {},
   "outputs": [],
   "source": []
  },
  {
   "cell_type": "code",
   "execution_count": 31,
   "metadata": {},
   "outputs": [
    {
     "data": {
      "text/plain": [
       "5"
      ]
     },
     "execution_count": 31,
     "metadata": {},
     "output_type": "execute_result"
    }
   ],
   "source": [
    "f(operator)"
   ]
  },
  {
   "cell_type": "code",
   "execution_count": 36,
   "metadata": {},
   "outputs": [],
   "source": [
    "operations: dict = {\n",
    "    \"+\": \"add\",\n",
    "    \"-\": \"sub\",\n",
    "    \"*\": \"mul\",\n",
    "    \"%\": \"mod\",\n",
    "    \"/\": \"truediv\",\n",
    "    \"**\": \"pow\"\n",
    "}\n",
    "\n",
    "def calc(in_prefix_str: str) :\n",
    "\n",
    "    operator_operands = in_prefix_str.split()\n",
    "\n",
    "    prefix_op = operator_operands[0]\n",
    "\n",
    "    operand_1 = int(operator_operands[1])\n",
    "\n",
    "    operand_2 = int(operator_operands[2])\n",
    "\n",
    "    f = operator.methodcaller(operations[prefix_op], operand_1, operand_2)\n",
    "\n",
    "    return f(operator)"
   ]
  },
  {
   "cell_type": "code",
   "execution_count": null,
   "metadata": {},
   "outputs": [],
   "source": [
    "# returns a callable object that calls the method name on its operand\n",
    "\n",
    "def unsexy_calc(in_prefix_str: str):\n",
    "\n",
    "    def add(a,b):\n",
    "\n",
    "        return a + b\n",
    "    \n",
    "    def sub(a, b):\n",
    "\n",
    "        return a - b\n",
    "    \n",
    "    def mul(a, b):\n",
    "\n",
    "        return a * b\n",
    "    \n",
    "    def truediv(a, b):\n",
    "\n",
    "        return a / b\n",
    "    \n",
    "    def mod(a,b):\n",
    "\n",
    "        return a % b\n",
    "    \n",
    "    def pow(a,b):\n",
    "            \n",
    "        return a**b\n",
    "    \n",
    "    operator_operands = in_prefix_str.split()\n",
    "\n",
    "    prefix_op = operator_operands[0]\n",
    "\n",
    "    operand_1 = int(operator_operands[1])\n",
    "\n",
    "    operand_2 = int(operator_operands[2])\n",
    "\n"
   ]
  }
 ],
 "metadata": {
  "kernelspec": {
   "display_name": "Python 3",
   "language": "python",
   "name": "python3"
  },
  "language_info": {
   "codemirror_mode": {
    "name": "ipython",
    "version": 3
   },
   "file_extension": ".py",
   "mimetype": "text/x-python",
   "name": "python",
   "nbconvert_exporter": "python",
   "pygments_lexer": "ipython3",
   "version": "3.11.8"
  }
 },
 "nbformat": 4,
 "nbformat_minor": 2
}
